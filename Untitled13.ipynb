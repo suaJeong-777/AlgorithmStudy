{
  "nbformat": 4,
  "nbformat_minor": 0,
  "metadata": {
    "colab": {
      "name": "Untitled13.ipynb",
      "provenance": [],
      "authorship_tag": "ABX9TyM4+kBty0KoSv2s4E9AhM+T",
      "include_colab_link": true
    },
    "kernelspec": {
      "name": "python3",
      "display_name": "Python 3"
    },
    "language_info": {
      "name": "python"
    }
  },
  "cells": [
    {
      "cell_type": "markdown",
      "metadata": {
        "id": "view-in-github",
        "colab_type": "text"
      },
      "source": [
        "<a href=\"https://colab.research.google.com/github/suaJeong-777/AlgorithmStudy/blob/main/Untitled13.ipynb\" target=\"_parent\"><img src=\"https://colab.research.google.com/assets/colab-badge.svg\" alt=\"Open In Colab\"/></a>"
      ]
    },
    {
      "cell_type": "code",
      "execution_count": null,
      "metadata": {
        "id": "IgbOAkGcwGD1"
      },
      "outputs": [],
      "source": [
        "# 모래 계산하는 함수\n",
        "def recount(s_x, s_y, direction):\n",
        "    global ans\n",
        "\n",
        "    if s_y < 0:\n",
        "        return\n",
        "        \n",
        "    # 3. a, out_sand\n",
        "    total = 0  # a 구하기 위한 변수\n",
        "    for dx, dy, z in direction:\n",
        "        nx = s_x + dx\n",
        "        ny = s_y + dy\n",
        "        if z == 0:  # a(나머지)\n",
        "            new_sand = sand[s_x][s_y] - total\n",
        "        else:  # 비율\n",
        "            new_sand = int(sand[s_x][s_y] * z)\n",
        "            total += new_sand\n",
        "\n",
        "        if 0 <= nx < N and 0 <= ny < N:  # 인덱스 범위이면 값 갱신\n",
        "            sand[nx][ny] += new_sand\n",
        "        else:  # 범위 밖이면 ans 카운트\n",
        "            ans += new_sand\n",
        "\n",
        "\n",
        "N = int(input())\n",
        "sand = [list(map(int, input().split())) for _ in range(N)]\n",
        "\n",
        "# 2. 방향별 모래 비율 위치\n",
        "left = [(1, 1, 0.01), (-1, 1, 0.01), (1, 0, 0.07), (-1, 0, 0.07), (1, -1, 0.1),\n",
        "         (-1, -1, 0.1), (2, 0, 0.02), (-2, 0, 0.02), (0, -2, 0.05), (0, -1, 0)]\n",
        "right = [(x, -y, z) for x,y,z in left]\n",
        "down = [(-y, x, z) for x,y,z in left]\n",
        "up = [(y, x, z) for x,y,z in left]\n",
        "\n",
        "s_x, s_y = N//2, N//2\n",
        "ans = 0\n",
        "dx = [0, 1, 0, -1]\n",
        "dy = [-1, 0, 1, 0]\n",
        "\n",
        "# 1.토네이도 회전 방향(y위치)\n",
        "dict = {0: left, 1: down, 2: right, 3: up}\n",
        "time = 0\n",
        "for i in range(2*N-1):\n",
        "    # 몫: i//4(타임+1), 나머지:i%4(방향)\n",
        "    d = i % 4\n",
        "    if d == 0 or d == 2:  # 다음 회차(d==0) 이거나 right(d==2) 이면 한번 더\n",
        "        time += 1\n",
        "    for _ in range(time):\n",
        "        n_x = s_x + dx[d]\n",
        "        n_y = s_y + dy[d]\n",
        "        recount(n_x, n_y, dict[d])  # y좌표, 방향\n",
        "        s_x, s_y = n_x, n_y\n",
        "\n",
        "print(ans)"
      ]
    }
  ]
}