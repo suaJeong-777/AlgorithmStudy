{
  "nbformat": 4,
  "nbformat_minor": 0,
  "metadata": {
    "colab": {
      "name": "JustPractice.ipynb",
      "provenance": [],
      "authorship_tag": "ABX9TyOrvb730xVpe0ifXp9i7ZUN",
      "include_colab_link": true
    },
    "kernelspec": {
      "name": "python3",
      "display_name": "Python 3"
    },
    "language_info": {
      "name": "python"
    }
  },
  "cells": [
    {
      "cell_type": "markdown",
      "metadata": {
        "id": "view-in-github",
        "colab_type": "text"
      },
      "source": [
        "<a href=\"https://colab.research.google.com/github/suaJeong-777/AlgorithmStudy/blob/main/JustPractice.ipynb\" target=\"_parent\"><img src=\"https://colab.research.google.com/assets/colab-badge.svg\" alt=\"Open In Colab\"/></a>"
      ]
    },
    {
      "cell_type": "code",
      "execution_count": null,
      "metadata": {
        "id": "kHojwFCE3rBO"
      },
      "outputs": [],
      "source": [
        "n=int(input())\n",
        "array=list(map(int,input().split()))\n",
        "array.sort()\n",
        "print(array[0],array[-1])"
      ]
    },
    {
      "cell_type": "code",
      "source": [
        "from sys import stdin\n",
        "\n",
        "n=int(stdin.readline())\n",
        "\n",
        "for num in range(n,0,-1):\n",
        "  print('*'*num)"
      ],
      "metadata": {
        "id": "ZsMq62Jh4Ute"
      },
      "execution_count": null,
      "outputs": []
    }
  ]
}