{
  "nbformat": 4,
  "nbformat_minor": 0,
  "metadata": {
    "colab": {
      "provenance": [],
      "authorship_tag": "ABX9TyOxhoOeMvzyA94dsh8Sxb1X",
      "include_colab_link": true
    },
    "kernelspec": {
      "name": "python3",
      "display_name": "Python 3"
    },
    "language_info": {
      "name": "python"
    }
  },
  "cells": [
    {
      "cell_type": "markdown",
      "metadata": {
        "id": "view-in-github",
        "colab_type": "text"
      },
      "source": [
        "<a href=\"https://colab.research.google.com/github/suaJeong-777/AlgorithmStudy/blob/main/Untitled20.ipynb\" target=\"_parent\"><img src=\"https://colab.research.google.com/assets/colab-badge.svg\" alt=\"Open In Colab\"/></a>"
      ]
    },
    {
      "cell_type": "code",
      "execution_count": null,
      "metadata": {
        "id": "2KWTEb1Wu2yP"
      },
      "outputs": [],
      "source": [
        "T = int(input())\n",
        "\n",
        "for t in range(1, T+1) :\n",
        "    N, M  = map(int, input().split())\n",
        "    area = [ [0]*N for _ in range(N) ]\n",
        "    for i in range(N) :\n",
        "        area[i] = list(map(int, input().split()))\n",
        "\n",
        "    die = []\n",
        "    for i in range(N-M+1) :\n",
        "        for j in range(N-M+1) :\n",
        "            count = 0\n",
        "            for k in range(M) :\n",
        "                for l in range(M) :\n",
        "                    count += area[i+k][j+l]\n",
        "            die.append(count)\n",
        "    die.sort()\n",
        "    print(\"#{} {}\".format(t, die[-1]))"
      ]
    }
  ]
}