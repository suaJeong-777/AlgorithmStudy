{
  "nbformat": 4,
  "nbformat_minor": 0,
  "metadata": {
    "colab": {
      "provenance": [],
      "authorship_tag": "ABX9TyNr8xV4diQkx6kmO7AChkHp",
      "include_colab_link": true
    },
    "kernelspec": {
      "name": "python3",
      "display_name": "Python 3"
    },
    "language_info": {
      "name": "python"
    }
  },
  "cells": [
    {
      "cell_type": "markdown",
      "metadata": {
        "id": "view-in-github",
        "colab_type": "text"
      },
      "source": [
        "<a href=\"https://colab.research.google.com/github/suaJeong-777/AlgorithmStudy/blob/main/Untitled19.ipynb\" target=\"_parent\"><img src=\"https://colab.research.google.com/assets/colab-badge.svg\" alt=\"Open In Colab\"/></a>"
      ]
    },
    {
      "cell_type": "code",
      "execution_count": null,
      "metadata": {
        "id": "jSp8RWl7HB7J"
      },
      "outputs": [],
      "source": [
        "import sys\n",
        "\n",
        "n, k = map(int, input().split())\n",
        "\n",
        "count = 0;\n",
        "\n",
        "while bin(n).count('1') > k:\n",
        "    n = n+1\n",
        "    count = count +1\n",
        "\n",
        "print(count)"
      ]
    }
  ]
}