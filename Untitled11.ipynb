{
  "nbformat": 4,
  "nbformat_minor": 0,
  "metadata": {
    "colab": {
      "name": "Untitled11.ipynb",
      "provenance": [],
      "authorship_tag": "ABX9TyPLTk04uWW2qh88BPUxq3uk",
      "include_colab_link": true
    },
    "kernelspec": {
      "name": "python3",
      "display_name": "Python 3"
    },
    "language_info": {
      "name": "python"
    }
  },
  "cells": [
    {
      "cell_type": "markdown",
      "metadata": {
        "id": "view-in-github",
        "colab_type": "text"
      },
      "source": [
        "<a href=\"https://colab.research.google.com/github/suaJeong-777/AlgorithmStudy/blob/main/Untitled11.ipynb\" target=\"_parent\"><img src=\"https://colab.research.google.com/assets/colab-badge.svg\" alt=\"Open In Colab\"/></a>"
      ]
    },
    {
      "cell_type": "code",
      "execution_count": null,
      "metadata": {
        "id": "aDPy0wGK-eAo"
      },
      "outputs": [],
      "source": [
        "from collections import defaultdict\n",
        "\n",
        "for _ in range(int(input())):\n",
        "    d = defaultdict(int)\n",
        "    t = int(input())\n",
        "    l = list(map(int,input().split()))\n",
        "    \n",
        "    for l_ in l:\n",
        "        d[l_] += 1\n",
        "    for key,value in d.items():\n",
        "        if value == max(d.values()):\n",
        "            print(\"#{0} {1}\".format(t,key))\n",
        "            break"
      ]
    }
  ]
}