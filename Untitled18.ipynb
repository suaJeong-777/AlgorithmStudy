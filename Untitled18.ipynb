{
  "nbformat": 4,
  "nbformat_minor": 0,
  "metadata": {
    "colab": {
      "provenance": [],
      "authorship_tag": "ABX9TyPhnbXexUYy590YXRhrjCww",
      "include_colab_link": true
    },
    "kernelspec": {
      "name": "python3",
      "display_name": "Python 3"
    },
    "language_info": {
      "name": "python"
    }
  },
  "cells": [
    {
      "cell_type": "markdown",
      "metadata": {
        "id": "view-in-github",
        "colab_type": "text"
      },
      "source": [
        "<a href=\"https://colab.research.google.com/github/suaJeong-777/AlgorithmStudy/blob/main/Untitled18.ipynb\" target=\"_parent\"><img src=\"https://colab.research.google.com/assets/colab-badge.svg\" alt=\"Open In Colab\"/></a>"
      ]
    },
    {
      "cell_type": "code",
      "execution_count": null,
      "metadata": {
        "id": "uhbD43HriDmh"
      },
      "outputs": [],
      "source": [
        "#include <iostream>\n",
        "using namespace std;\n",
        "\n",
        "int arr[5000] = { 0 };\n",
        "int main()\n",
        "{\n",
        "\tint N, a = 0, temp, boat = 0;\n",
        "\tcin >> N;\n",
        "\n",
        "\tfor (int i = 0; i < N; i++)\n",
        "\t\tcin >> arr[i];\n",
        "\n",
        "\tfor (int i = 1; i < N; i++)\n",
        "\t{\n",
        "\t\tif (arr[i] == 0)\n",
        "\t\t\tcontinue;\n",
        "\t\ta = arr[i] - arr[0];\n",
        "\t\ttemp = 1;\n",
        "\t\tfor (int j = 1; j < N; j++)\n",
        "\t\t{\n",
        "\t\t\tif (arr[j] == 0)\n",
        "\t\t\t\tcontinue;\n",
        "\t\t\tif (arr[j]%a==1)\n",
        "\t\t\t{\n",
        "\t\t\t\ttemp += a;\n",
        "\t\t\t\tarr[j] = 0;\n",
        "\t\t\t}\n",
        "\t\t}\n",
        "\t\tif (temp != 1)\n",
        "\t\t\tboat++;\n",
        "\t}\n",
        "\n",
        "\tcout << boat;\n",
        "\n",
        "\treturn 0;\n",
        "}"
      ]
    },
    {
      "cell_type": "code",
      "source": [
        "r, b = map(int, input().split())\n",
        "for i in range(3, 2000):\n",
        "    for j in range(3, i + 1):\n",
        "        a = (i * 2) + ((j - 2) * 2)\n",
        "        if a == r and (i * j) - a == b:\n",
        "            print(i, j)"
      ],
      "metadata": {
        "id": "LptF2CHxipq0"
      },
      "execution_count": null,
      "outputs": []
    }
  ]
}