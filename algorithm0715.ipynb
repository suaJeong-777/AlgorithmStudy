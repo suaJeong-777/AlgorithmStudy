{
  "nbformat": 4,
  "nbformat_minor": 0,
  "metadata": {
    "colab": {
      "name": "algorithm0715.ipynb",
      "provenance": [],
      "authorship_tag": "ABX9TyPeJJ4lUweAskEWjr4wEK9s",
      "include_colab_link": true
    },
    "kernelspec": {
      "name": "python3",
      "display_name": "Python 3"
    },
    "language_info": {
      "name": "python"
    }
  },
  "cells": [
    {
      "cell_type": "markdown",
      "metadata": {
        "id": "view-in-github",
        "colab_type": "text"
      },
      "source": [
        "<a href=\"https://colab.research.google.com/github/suaJeong-777/AlgorithmStudy/blob/main/algorithm0715.ipynb\" target=\"_parent\"><img src=\"https://colab.research.google.com/assets/colab-badge.svg\" alt=\"Open In Colab\"/></a>"
      ]
    },
    {
      "cell_type": "code",
      "execution_count": null,
      "metadata": {
        "id": "-7auIsY5T9Mf"
      },
      "outputs": [],
      "source": [
        "\n",
        "a,b = map(int, input().split())\n",
        "B = abs(a-b)                     \n",
        "R = 0                             \n",
        "\n",
        "while B != 0:\n",
        "    if B >= 10:\n",
        "        B = B - 10\n",
        "        R += 1\n",
        "    else:\n",
        "        if B > 7:\n",
        "            B += 1\n",
        "            R += 1\n",
        "        elif B > 4:\n",
        "            B = B - 5\n",
        "            R += 1\n",
        "        elif B > 2:\n",
        "            B += 1\n",
        "            R += 1\n",
        "        else:\n",
        "            B = B -1\n",
        "            R += 1\n",
        "            \n",
        "print(R)"
      ]
    }
  ]
}