{
  "nbformat": 4,
  "nbformat_minor": 0,
  "metadata": {
    "colab": {
      "provenance": [],
      "collapsed_sections": [],
      "authorship_tag": "ABX9TyOlB/V9jXLD2M14g+zv1Cxr",
      "include_colab_link": true
    },
    "kernelspec": {
      "name": "python3",
      "display_name": "Python 3"
    },
    "language_info": {
      "name": "python"
    }
  },
  "cells": [
    {
      "cell_type": "markdown",
      "metadata": {
        "id": "view-in-github",
        "colab_type": "text"
      },
      "source": [
        "<a href=\"https://colab.research.google.com/github/suaJeong-777/AlgorithmStudy/blob/main/codeup_%EA%B8%B0%EC%B4%88_100%EC%A0%9C.ipynb\" target=\"_parent\"><img src=\"https://colab.research.google.com/assets/colab-badge.svg\" alt=\"Open In Colab\"/></a>"
      ]
    },
    {
      "cell_type": "code",
      "source": [
        "# 1번\n",
        "print(\"Hello\")"
      ],
      "metadata": {
        "id": "yTHR9BGahQu-"
      },
      "execution_count": null,
      "outputs": []
    },
    {
      "cell_type": "code",
      "source": [
        "# 2번\n",
        "print(\"Hello World\")"
      ],
      "metadata": {
        "id": "_GHvWuhHXh01"
      },
      "execution_count": null,
      "outputs": []
    },
    {
      "cell_type": "code",
      "source": [
        "#3번\n",
        "print(\"Hello\")\n",
        "print(\"World\")"
      ],
      "metadata": {
        "id": "pomgP5qaXwUK"
      },
      "execution_count": null,
      "outputs": []
    },
    {
      "cell_type": "code",
      "source": [
        "#4번   <<한번 틀림\n",
        "print(\"'Hello'\")"
      ],
      "metadata": {
        "id": "xibviW_ZYGle"
      },
      "execution_count": null,
      "outputs": []
    },
    {
      "cell_type": "code",
      "source": [
        "#5번\n",
        "print('\"Hello World\"')"
      ],
      "metadata": {
        "id": "JxOXog7OYc5-"
      },
      "execution_count": null,
      "outputs": []
    },
    {
      "cell_type": "code",
      "source": [
        "#6번\n",
        "print(\"\\\"!@#$%^&*()\\'\")"
      ],
      "metadata": {
        "id": "9Z6Iz2KwYyyk"
      },
      "execution_count": null,
      "outputs": []
    },
    {
      "cell_type": "code",
      "source": [
        "#7번\n",
        "print('\"C:\\\\Download\\\\\\'hello\\'.py\"')"
      ],
      "metadata": {
        "id": "4z6WwlJ9ZEgs"
      },
      "execution_count": null,
      "outputs": []
    },
    {
      "cell_type": "code",
      "source": [
        "#8번\n",
        "print('print(\"Hello\\\\nWorld\")')"
      ],
      "metadata": {
        "id": "XqhHKsqyZJsy"
      },
      "execution_count": null,
      "outputs": []
    },
    {
      "cell_type": "code",
      "source": [
        "#9번\n"
      ],
      "metadata": {
        "id": "GQdE_RPxZy8r"
      },
      "execution_count": null,
      "outputs": []
    }
  ]
}