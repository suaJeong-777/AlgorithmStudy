{
  "nbformat": 4,
  "nbformat_minor": 0,
  "metadata": {
    "colab": {
      "provenance": [],
      "collapsed_sections": [],
      "authorship_tag": "ABX9TyMTGzubgjKkiPi0/0TARrRp",
      "include_colab_link": true
    },
    "kernelspec": {
      "name": "python3",
      "display_name": "Python 3"
    },
    "language_info": {
      "name": "python"
    }
  },
  "cells": [
    {
      "cell_type": "markdown",
      "metadata": {
        "id": "view-in-github",
        "colab_type": "text"
      },
      "source": [
        "<a href=\"https://colab.research.google.com/github/suaJeong-777/AlgorithmStudy/blob/main/codeup_%EA%B8%B0%EC%B4%88_100%EC%A0%9C.ipynb\" target=\"_parent\"><img src=\"https://colab.research.google.com/assets/colab-badge.svg\" alt=\"Open In Colab\"/></a>"
      ]
    },
    {
      "cell_type": "code",
      "source": [
        "# 1번\n",
        "print(\"Hello\")"
      ],
      "metadata": {
        "id": "yTHR9BGahQu-"
      },
      "execution_count": null,
      "outputs": []
    },
    {
      "cell_type": "code",
      "source": [
        "# 2번\n",
        "print(\"Hello World\")"
      ],
      "metadata": {
        "id": "_GHvWuhHXh01"
      },
      "execution_count": null,
      "outputs": []
    },
    {
      "cell_type": "code",
      "source": [
        "#3번\n",
        "print(\"Hello\")\n",
        "print(\"World\")"
      ],
      "metadata": {
        "id": "pomgP5qaXwUK"
      },
      "execution_count": null,
      "outputs": []
    },
    {
      "cell_type": "code",
      "source": [
        "#4번   <<한번 틀림\n",
        "print(\"'Hello'\")"
      ],
      "metadata": {
        "id": "xibviW_ZYGle"
      },
      "execution_count": null,
      "outputs": []
    },
    {
      "cell_type": "code",
      "source": [
        "#5번\n",
        "print('\"Hello World\"')"
      ],
      "metadata": {
        "id": "JxOXog7OYc5-"
      },
      "execution_count": null,
      "outputs": []
    },
    {
      "cell_type": "code",
      "source": [
        "#6번\n",
        "print(\"\\\"!@#$%^&*()\\'\")"
      ],
      "metadata": {
        "id": "9Z6Iz2KwYyyk"
      },
      "execution_count": null,
      "outputs": []
    },
    {
      "cell_type": "code",
      "source": [
        "#7번\n",
        "print('\"C:\\\\Download\\\\\\'hello\\'.py\"')"
      ],
      "metadata": {
        "id": "4z6WwlJ9ZEgs"
      },
      "execution_count": null,
      "outputs": []
    },
    {
      "cell_type": "code",
      "source": [
        "#8번\n",
        "print('print(\"Hello\\\\nWorld\")')"
      ],
      "metadata": {
        "id": "XqhHKsqyZJsy"
      },
      "execution_count": null,
      "outputs": []
    },
    {
      "cell_type": "code",
      "source": [
        "#9번\n",
        "num=input()\n",
        "print(num)"
      ],
      "metadata": {
        "id": "GQdE_RPxZy8r"
      },
      "execution_count": null,
      "outputs": []
    },
    {
      "cell_type": "code",
      "source": [
        "#10번\n",
        "n=input()\n",
        "k=int(n)\n",
        "print(n)"
      ],
      "metadata": {
        "id": "RIEntm6SaHaw"
      },
      "execution_count": null,
      "outputs": []
    },
    {
      "cell_type": "code",
      "source": [
        "#11번\n",
        "num=input()\n",
        "number=float(num)\n",
        "print(number)"
      ],
      "metadata": {
        "id": "vyZmQbD7aIox"
      },
      "execution_count": null,
      "outputs": []
    },
    {
      "cell_type": "code",
      "source": [
        "#12번  \n",
        "a=input()\n",
        "b=input()\n",
        "print(a)\n",
        "print(b)"
      ],
      "metadata": {
        "colab": {
          "base_uri": "https://localhost:8080/"
        },
        "id": "GOAuqLsBaJwT",
        "outputId": "ec00feef-578c-40c2-d6b1-fb4dfeb93461"
      },
      "execution_count": 3,
      "outputs": [
        {
          "output_type": "stream",
          "name": "stdout",
          "text": [
            "a\n",
            "b\n",
            "b\n",
            "a\n"
          ]
        }
      ]
    },
    {
      "cell_type": "code",
      "source": [
        "#13번  <<문제 똑바로 읽기 + 제공되는 입력 출력 확인 똑바로 하기\n",
        "chara=input()\n",
        "charb=input()\n",
        "print(charb)\n",
        "print(chara)"
      ],
      "metadata": {
        "id": "a4j8Yz-0aKip"
      },
      "execution_count": null,
      "outputs": []
    },
    {
      "cell_type": "code",
      "source": [
        "#14번\n",
        "num=input()\n",
        "print(num)\n",
        "print(num)\n",
        "print(num)"
      ],
      "metadata": {
        "id": "DeOUwls1aLTv"
      },
      "execution_count": null,
      "outputs": []
    },
    {
      "cell_type": "code",
      "source": [
        "#15번\n",
        "a,b=input().split()\n",
        "print(a)\n",
        "print(b)"
      ],
      "metadata": {
        "id": "0X4m-9AnaMCt"
      },
      "execution_count": null,
      "outputs": []
    },
    {
      "cell_type": "code",
      "source": [
        "#16번\n",
        "a,b=input().split()\n",
        "print(b)\n",
        "print(a)"
      ],
      "metadata": {
        "id": "t7vwSRwlaM2y"
      },
      "execution_count": null,
      "outputs": []
    },
    {
      "cell_type": "code",
      "source": [
        "#17번\n",
        "text=input()\n",
        "print(text,text,text)"
      ],
      "metadata": {
        "id": "w2pqARKjaNvz"
      },
      "execution_count": null,
      "outputs": []
    },
    {
      "cell_type": "code",
      "source": [
        "#18번 <<sep 속성의 개념 알기 \n",
        "hour,minute=input().split(\":\")\n",
        "print(hour,minute,sep=':')    \n",
        "      #print(?,?,sep=':')를 사용하면 :기호를 사이에 두고 값을 출력한다"
      ],
      "metadata": {
        "colab": {
          "base_uri": "https://localhost:8080/"
        },
        "id": "CghpWTedaOmK",
        "outputId": "37f17b5a-a039-4ca7-ce3e-7872eaa66976"
      },
      "execution_count": 4,
      "outputs": [
        {
          "output_type": "stream",
          "name": "stdout",
          "text": [
            "4:30\n",
            "4 30\n"
          ]
        }
      ]
    },
    {
      "cell_type": "code",
      "source": [
        "#19번  << 문제 똑바로 읽기 \n",
        "year,date,day=input().split(\".\")\n",
        "print(day,date,year,sep=\"-\")"
      ],
      "metadata": {
        "colab": {
          "base_uri": "https://localhost:8080/"
        },
        "id": "Yurq4JNZaPYL",
        "outputId": "1aa02f18-4f83-45e8-8b65-6ecdddafb534"
      },
      "execution_count": 6,
      "outputs": [
        {
          "output_type": "stream",
          "name": "stdout",
          "text": [
            "2022.11.03\n",
            "2022-11-03\n"
          ]
        }
      ]
    },
    {
      "cell_type": "code",
      "source": [
        "#20번\n",
        "IDnumber=input()\n",
        "result=IDnumber.replace(\"-\",\"\")\n",
        "print(result)"
      ],
      "metadata": {
        "id": "usAGNEFpaQFp"
      },
      "execution_count": null,
      "outputs": []
    }
  ]
}