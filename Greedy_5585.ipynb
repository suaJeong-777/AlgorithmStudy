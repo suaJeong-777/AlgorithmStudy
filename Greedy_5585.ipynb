{
  "nbformat": 4,
  "nbformat_minor": 0,
  "metadata": {
    "colab": {
      "name": "Greedy_5585.ipynb",
      "provenance": [],
      "collapsed_sections": [],
      "authorship_tag": "ABX9TyO6qA+dqkyCNIBREmB28lnm",
      "include_colab_link": true
    },
    "kernelspec": {
      "name": "python3",
      "display_name": "Python 3"
    },
    "language_info": {
      "name": "python"
    }
  },
  "cells": [
    {
      "cell_type": "markdown",
      "metadata": {
        "id": "view-in-github",
        "colab_type": "text"
      },
      "source": [
        "<a href=\"https://colab.research.google.com/github/suaJeong-777/AlgorithmStudy/blob/main/Greedy_5585.ipynb\" target=\"_parent\"><img src=\"https://colab.research.google.com/assets/colab-badge.svg\" alt=\"Open In Colab\"/></a>"
      ]
    },
    {
      "cell_type": "code",
      "execution_count": 6,
      "metadata": {
        "colab": {
          "base_uri": "https://localhost:8080/"
        },
        "id": "xdqB9WLcMvOc",
        "outputId": "8864503e-fb5f-45f4-8fdc-7c4162818f40"
      },
      "outputs": [
        {
          "output_type": "stream",
          "name": "stdout",
          "text": [
            "1\n",
            "15\n"
          ]
        }
      ],
      "source": [
        "price=int(input())\n",
        "changes=1000-price\n",
        "cnt=0\n",
        "\n",
        "coin_type=[500,100,50,10,5,1]\n",
        "\n",
        "for i in coin_type:\n",
        "  cnt+= changes//i\n",
        "  changes%=i\n",
        "\n",
        "print(cnt)\n"
      ]
    }
  ]
}