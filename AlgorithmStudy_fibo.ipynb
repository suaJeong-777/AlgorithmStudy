{
  "nbformat": 4,
  "nbformat_minor": 0,
  "metadata": {
    "colab": {
      "name": "AlgorithmStudy_02.ipynb",
      "provenance": [],
      "authorship_tag": "ABX9TyN5vjzjINR+k3jndYfz8BFj",
      "include_colab_link": true
    },
    "kernelspec": {
      "name": "python3",
      "display_name": "Python 3"
    },
    "language_info": {
      "name": "python"
    }
  },
  "cells": [
    {
      "cell_type": "markdown",
      "metadata": {
        "id": "view-in-github",
        "colab_type": "text"
      },
      "source": [
        "<a href=\"https://colab.research.google.com/github/suaJeong-777/AlgorithmStudy/blob/main/AlgorithmStudy_fibo.ipynb\" target=\"_parent\"><img src=\"https://colab.research.google.com/assets/colab-badge.svg\" alt=\"Open In Colab\"/></a>"
      ]
    },
    {
      "cell_type": "markdown",
      "source": [
        "GAN\n"
      ],
      "metadata": {
        "id": "WGxa4HQ4jfDm"
      }
    },
    {
      "cell_type": "code",
      "source": [
        "d=[0]*100\n",
        "\n",
        "def fibo(x):\n",
        "  if x==1 or x==2:\n",
        "    return 1\n",
        "  if d[x]!=0:\n",
        "    return d[x]\n",
        "  \n",
        "  d[x]=  fibo(x-1)+fibo(x-2)\n",
        "  return d[x]\n",
        "\n",
        "print(fibo(99))"
      ],
      "metadata": {
        "colab": {
          "base_uri": "https://localhost:8080/"
        },
        "id": "E-adDtXGrXFq",
        "outputId": "2e6badbd-ab39-4132-a2f6-62791d24ccc3"
      },
      "execution_count": 2,
      "outputs": [
        {
          "output_type": "stream",
          "name": "stdout",
          "text": [
            "218922995834555169026\n"
          ]
        }
      ]
    },
    {
      "cell_type": "code",
      "execution_count": null,
      "metadata": {
        "id": "GYSrbuXZgLmX"
      },
      "outputs": [],
      "source": [
        ""
      ]
    }
  ]
}