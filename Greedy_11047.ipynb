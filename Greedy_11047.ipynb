{
  "nbformat": 4,
  "nbformat_minor": 0,
  "metadata": {
    "colab": {
      "name": "Greedy_11047.ipynb",
      "provenance": [],
      "authorship_tag": "ABX9TyNePeB8YFyEMmTD1GAwyq82",
      "include_colab_link": true
    },
    "kernelspec": {
      "name": "python3",
      "display_name": "Python 3"
    },
    "language_info": {
      "name": "python"
    }
  },
  "cells": [
    {
      "cell_type": "markdown",
      "metadata": {
        "id": "view-in-github",
        "colab_type": "text"
      },
      "source": [
        "<a href=\"https://colab.research.google.com/github/suaJeong-777/AlgorithmStudy/blob/main/Greedy_11047.ipynb\" target=\"_parent\"><img src=\"https://colab.research.google.com/assets/colab-badge.svg\" alt=\"Open In Colab\"/></a>"
      ]
    },
    {
      "cell_type": "code",
      "execution_count": 17,
      "metadata": {
        "colab": {
          "base_uri": "https://localhost:8080/"
        },
        "id": "p_-BptGCkGCV",
        "outputId": "7a62e6f1-ddf5-409e-bd5c-9b03e0cc995e"
      },
      "outputs": [
        {
          "output_type": "stream",
          "name": "stdout",
          "text": [
            "10 4200\n",
            "1\n",
            "5\n",
            "10\n",
            "50\n",
            "100\n",
            "500\n",
            "1000\n",
            "5000\n",
            "10000\n",
            "50000\n",
            "6\n"
          ]
        }
      ],
      "source": [
        "n,k =map(int,input().split())\n",
        "coin_types=list()\n",
        "for i in range(n):\n",
        "  coin_types.append(int(input()))\n",
        "\n",
        "cnt=0\n",
        "\n",
        "coin_types=sorted(coin_types,reverse=True)\n",
        "\n",
        "for coin in coin_types:\n",
        "  cnt+= k//coin\n",
        "  k %=coin\n",
        "\n",
        "print(cnt)\n",
        "\n",
        "\n",
        "\n"
      ]
    }
  ]
}