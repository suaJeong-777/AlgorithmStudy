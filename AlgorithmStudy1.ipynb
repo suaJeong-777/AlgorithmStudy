{
  "nbformat": 4,
  "nbformat_minor": 0,
  "metadata": {
    "colab": {
      "name": "AlgorithmStudy1.ipynb",
      "provenance": [],
      "collapsed_sections": [],
      "authorship_tag": "ABX9TyOX5q5tu4T/8Q8UAkpfk8OW",
      "include_colab_link": true
    },
    "kernelspec": {
      "name": "python3",
      "display_name": "Python 3"
    },
    "language_info": {
      "name": "python"
    }
  },
  "cells": [
    {
      "cell_type": "markdown",
      "metadata": {
        "id": "view-in-github",
        "colab_type": "text"
      },
      "source": [
        "<a href=\"https://colab.research.google.com/github/suaJeong-777/AlgorithmStudy/blob/main/AlgorithmStudy1.ipynb\" target=\"_parent\"><img src=\"https://colab.research.google.com/assets/colab-badge.svg\" alt=\"Open In Colab\"/></a>"
      ]
    },
    {
      "cell_type": "markdown",
      "source": [
        "#알고리즘 개요\n",
        "알고리즘(algorithm)이란 해결해야 할 어떤 문제가 주어졌을 때, 이 문제의 해답을 구하기 위한 절차를 순서대로 명확하게 나타낸 것."
      ],
      "metadata": {
        "id": "CwQRXBo6nJjs"
      }
    },
    {
      "cell_type": "code",
      "source": [
        "def isPalindrom(self,s:str)->bool:\n",
        "  strs=[]\n",
        "  for char in s:\n",
        "    if char.isalnum():\n",
        "      strs.append(char.lower())\n",
        "      \n",
        "  while len(strs)>1:\n",
        "    if strs.pop(0)!=strs.pop():\n",
        "      return False\n",
        "\n",
        "  return True\n"
      ],
      "metadata": {
        "id": "QBOkch08o8FU"
      },
      "execution_count": 8,
      "outputs": []
    }
  ]
}