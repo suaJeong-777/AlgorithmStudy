{
  "nbformat": 4,
  "nbformat_minor": 0,
  "metadata": {
    "colab": {
      "name": "AlgorithmStudy1.ipynb",
      "provenance": [],
      "authorship_tag": "ABX9TyP/uTbIdkcWonBWd18ZOHQw",
      "include_colab_link": true
    },
    "kernelspec": {
      "name": "python3",
      "display_name": "Python 3"
    },
    "language_info": {
      "name": "python"
    }
  },
  "cells": [
    {
      "cell_type": "markdown",
      "metadata": {
        "id": "view-in-github",
        "colab_type": "text"
      },
      "source": [
        "<a href=\"https://colab.research.google.com/github/suaJeong-777/AlgorithmStudy/blob/main/AlgorithmStudy1.ipynb\" target=\"_parent\"><img src=\"https://colab.research.google.com/assets/colab-badge.svg\" alt=\"Open In Colab\"/></a>"
      ]
    },
    {
      "cell_type": "markdown",
      "source": [
        "#알고리즘 개요\n",
        "알고리즘(algorithm)이란 해결해야 할 어떤 문제가 주어졌을 때, 이 문제의 해답을 구하기 위한 절차를 순서대로 명확하게 나타낸 것."
      ],
      "metadata": {
        "id": "CwQRXBo6nJjs"
      }
    }
  ]
}