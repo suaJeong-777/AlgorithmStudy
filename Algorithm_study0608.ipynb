{
  "nbformat": 4,
  "nbformat_minor": 0,
  "metadata": {
    "colab": {
      "name": "Algorithm_study0608.ipynb",
      "provenance": [],
      "authorship_tag": "ABX9TyNbOtLMFKezhxSK0qmns5lL",
      "include_colab_link": true
    },
    "kernelspec": {
      "name": "python3",
      "display_name": "Python 3"
    },
    "language_info": {
      "name": "python"
    }
  },
  "cells": [
    {
      "cell_type": "markdown",
      "metadata": {
        "id": "view-in-github",
        "colab_type": "text"
      },
      "source": [
        "<a href=\"https://colab.research.google.com/github/suaJeong-777/AlgorithmStudy/blob/main/Algorithm_study0608.ipynb\" target=\"_parent\"><img src=\"https://colab.research.google.com/assets/colab-badge.svg\" alt=\"Open In Colab\"/></a>"
      ]
    },
    {
      "cell_type": "code",
      "execution_count": 7,
      "metadata": {
        "colab": {
          "base_uri": "https://localhost:8080/"
        },
        "id": "LG88IGcCFdX4",
        "outputId": "80bd60d1-4686-4e2a-c473-d5c47d3a7da8"
      },
      "outputs": [
        {
          "output_type": "stream",
          "name": "stdout",
          "text": [
            "2\n",
            "이순신 77\n",
            "홍길동 95\n",
            "이순신홍길동"
          ]
        }
      ],
      "source": [
        "n=int(input())\n",
        "\n",
        "array=[]\n",
        "for i in range(n):\n",
        "  input_data=input().split()\n",
        "  array.append((input_data[0],int(input_data[1])))\n",
        "\n",
        "array=sorted(array,key=lambda student: student[1])\n",
        "\n",
        "for student in array:\n",
        "  print(student[0],end='')"
      ]
    },
    {
      "cell_type": "code",
      "source": [
        "n, k = map(int,input().split())\n",
        "a=list(map(int,input().split()))\n",
        "b=list(map(int,input().split()))\n",
        "\n",
        "a.sort()\n",
        "b.sort(reverse=True)\n",
        "\n",
        "for i in range(k):\n",
        "  if a[i]<b[i]:\n",
        "    a[i],b[i]=b[i],a[i]\n",
        "  else:\n",
        "    break\n",
        "print(sum(a))"
      ],
      "metadata": {
        "colab": {
          "base_uri": "https://localhost:8080/"
        },
        "id": "PfDNWq44Gksc",
        "outputId": "13c6872d-7e8a-4f49-cf2e-e3f38557f05e"
      },
      "execution_count": 11,
      "outputs": [
        {
          "output_type": "stream",
          "name": "stdout",
          "text": [
            "5 3\n",
            "1 2 5 4 2\n",
            "5 5 6 6 5\n",
            "26\n"
          ]
        }
      ]
    }
  ]
}