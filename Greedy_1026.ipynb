{
  "nbformat": 4,
  "nbformat_minor": 0,
  "metadata": {
    "colab": {
      "name": "Greedy_1026.ipynb",
      "provenance": [],
      "authorship_tag": "ABX9TyN1KR3kZjIjamsSWONTU6T3",
      "include_colab_link": true
    },
    "kernelspec": {
      "name": "python3",
      "display_name": "Python 3"
    },
    "language_info": {
      "name": "python"
    }
  },
  "cells": [
    {
      "cell_type": "markdown",
      "metadata": {
        "id": "view-in-github",
        "colab_type": "text"
      },
      "source": [
        "<a href=\"https://colab.research.google.com/github/suaJeong-777/AlgorithmStudy/blob/main/Greedy_1026.ipynb\" target=\"_parent\"><img src=\"https://colab.research.google.com/assets/colab-badge.svg\" alt=\"Open In Colab\"/></a>"
      ]
    },
    {
      "cell_type": "code",
      "execution_count": 14,
      "metadata": {
        "colab": {
          "base_uri": "https://localhost:8080/"
        },
        "id": "ZE8mzZ58vAxy",
        "outputId": "46f53415-094c-482e-bcad-9352693e3508"
      },
      "outputs": [
        {
          "output_type": "stream",
          "name": "stdout",
          "text": [
            "9\n",
            "5 15 100 31 39 0 0 3 26\n",
            "11 12 13 2 3 4 5 9 1\n",
            "528\n"
          ]
        }
      ],
      "source": [
        "n= int(input())                   \n",
        "a=list(map(int,input().split()))\n",
        "b=list(map(int,input().split()))\n",
        "\n",
        "a.sort()\n",
        "result=0\n",
        "for i in range(n):\n",
        "  a_list=a[i]\n",
        "  arr_b=b.index(max(b)) \n",
        "  result += a[i]*b[arr_b]\n",
        "  b.pop(arr_b)\n",
        "\n",
        "print(result)"
      ]
    }
  ]
}