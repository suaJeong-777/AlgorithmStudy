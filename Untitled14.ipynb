{
  "nbformat": 4,
  "nbformat_minor": 0,
  "metadata": {
    "colab": {
      "name": "Untitled14.ipynb",
      "provenance": [],
      "authorship_tag": "ABX9TyPRUqpVQaeTi1kewDwQQqgH",
      "include_colab_link": true
    },
    "kernelspec": {
      "name": "python3",
      "display_name": "Python 3"
    },
    "language_info": {
      "name": "python"
    }
  },
  "cells": [
    {
      "cell_type": "markdown",
      "metadata": {
        "id": "view-in-github",
        "colab_type": "text"
      },
      "source": [
        "<a href=\"https://colab.research.google.com/github/suaJeong-777/AlgorithmStudy/blob/main/Untitled14.ipynb\" target=\"_parent\"><img src=\"https://colab.research.google.com/assets/colab-badge.svg\" alt=\"Open In Colab\"/></a>"
      ]
    },
    {
      "cell_type": "code",
      "execution_count": null,
      "metadata": {
        "id": "uagHxd2cTOxw"
      },
      "outputs": [],
      "source": [
        "import sys\n",
        "\n",
        "n = int(sys.stdin.readline())\n",
        "arr = []\n",
        "idx = {}\n",
        "#숫자 받아서 arr 리스트에 넣기 \n",
        "for i in range(n):\n",
        "    num = int(sys.stdin.readline())\n",
        "    arr.append(num)\n",
        "    #idx에 입력받은 숫자가 키로 없으면 해당 숫자를 키로하여 값을 1로 세팅\n",
        "    if num not in idx:\n",
        "        idx[num] = 1\n",
        "    #입력받은 숫자가 idx에 키로 있으면, 하나가 더 들어온 것이므로 값을 1 더해줌\n",
        "    elif num in idx:\n",
        "        idx[num]+=1\n",
        "#갯수 1개일 때를 따로 빼기 \n",
        "if n==1:\n",
        "    print(arr[0])\n",
        "    print(arr[0])\n",
        "    print(arr[0])\n",
        "    print(0)\n",
        "#갯수가 1개 이상이면\n",
        "else:\n",
        "    #우선 오름차순 정렬\n",
        "    arr.sort()\n",
        "    #산술평균        \n",
        "    avg = int(round(sum(arr)/n))\n",
        "    print(avg)\n",
        "    #중앙값은 오름차순 정렬한 것에서 가운데 값\n",
        "    mid = arr[int(n/2)]\n",
        "    print(mid)\n",
        "    #최빈값\n",
        "    #sorted 하면 리스트 반환. 원소는 튜플 \n",
        "    #빈도수 내림차순(큰->작은), 키값 오름차순(작은->큰)\n",
        "    idx = sorted(idx.items(),key = lambda x:(-x[1],x[0]))\n",
        "\n",
        "    #만일 최빈값이 두개라면, 1번째 인덱스의 값, 즉 idx[1][0] 출력하기\n",
        "    #최빈값이 한개라면 0번째 인덱스의 값, 즉 idx[0][0] 출력하기 \n",
        "    for i in range(1,len(idx)):\n",
        "        if idx[0][1] == idx[i][1]:\n",
        "            print(idx[1][0])\n",
        "            break;\n",
        "        else:\n",
        "            print(idx[0][0])\n",
        "            break;\n",
        "\n",
        "    \n",
        "    ran = arr[n-1] - arr[0]\n",
        "    print(ran)"
      ]
    }
  ]
}