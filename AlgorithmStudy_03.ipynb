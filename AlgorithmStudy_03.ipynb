{
  "nbformat": 4,
  "nbformat_minor": 0,
  "metadata": {
    "colab": {
      "name": "AlgorithmStudy_03.ipynb",
      "provenance": [],
      "authorship_tag": "ABX9TyMBkznMMLNe78Rt15dEJ6Sm",
      "include_colab_link": true
    },
    "kernelspec": {
      "name": "python3",
      "display_name": "Python 3"
    },
    "language_info": {
      "name": "python"
    }
  },
  "cells": [
    {
      "cell_type": "markdown",
      "metadata": {
        "id": "view-in-github",
        "colab_type": "text"
      },
      "source": [
        "<a href=\"https://colab.research.google.com/github/suaJeong-777/AlgorithmStudy/blob/main/AlgorithmStudy_03.ipynb\" target=\"_parent\"><img src=\"https://colab.research.google.com/assets/colab-badge.svg\" alt=\"Open In Colab\"/></a>"
      ]
    },
    {
      "cell_type": "code",
      "execution_count": 1,
      "metadata": {
        "colab": {
          "base_uri": "https://localhost:8080/"
        },
        "id": "xcfsGdboOpfy",
        "outputId": "725d2fab-e00a-4ac7-9a43-86ac9db6919e"
      },
      "outputs": [
        {
          "output_type": "stream",
          "name": "stdout",
          "text": [
            "6\n"
          ]
        }
      ],
      "source": [
        "#Greedy Algorithm\n",
        "\n",
        "n=1260\n",
        "count=0\n",
        "\n",
        "coin_types=[500,100,50,10]\n",
        "\n",
        "for coin in coin_types:\n",
        "  count+=n//coin\n",
        "  n%=coin\n",
        "\n",
        "print(count)"
      ]
    },
    {
      "cell_type": "code",
      "source": [
        "n,m,k=map(int,input().split())\n",
        "data=list(map(int,input().split()))\n",
        "\n",
        "data.sort()\n",
        "first=data[n-1]\n",
        "second=data[n-2]\n",
        "\n",
        "result=0\n",
        "\n",
        "while True:\n",
        "  for i in range(k):\n",
        "    if m==0:\n",
        "      break\n",
        "    result+=first\n",
        "    m-=1\n",
        "  if m==0:\n",
        "    break\n",
        "  result+=second\n",
        "  m-=1\n",
        "\n",
        "print(result)"
      ],
      "metadata": {
        "colab": {
          "base_uri": "https://localhost:8080/"
        },
        "id": "lzKyFs_DO8hj",
        "outputId": "5b1208d4-d10b-429a-d68c-85f01e774be4"
      },
      "execution_count": 2,
      "outputs": [
        {
          "output_type": "stream",
          "name": "stdout",
          "text": [
            "5 8 3\n",
            "2 4 5 4 6\n",
            "46\n"
          ]
        }
      ]
    }
  ]
}