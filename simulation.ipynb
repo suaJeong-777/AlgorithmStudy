{
  "nbformat": 4,
  "nbformat_minor": 0,
  "metadata": {
    "colab": {
      "name": "simulation.ipynb",
      "provenance": [],
      "authorship_tag": "ABX9TyNXym89BFOpZDi5EEawpQg+",
      "include_colab_link": true
    },
    "kernelspec": {
      "name": "python3",
      "display_name": "Python 3"
    },
    "language_info": {
      "name": "python"
    }
  },
  "cells": [
    {
      "cell_type": "markdown",
      "metadata": {
        "id": "view-in-github",
        "colab_type": "text"
      },
      "source": [
        "<a href=\"https://colab.research.google.com/github/suaJeong-777/AlgorithmStudy/blob/main/simulation.ipynb\" target=\"_parent\"><img src=\"https://colab.research.google.com/assets/colab-badge.svg\" alt=\"Open In Colab\"/></a>"
      ]
    },
    {
      "cell_type": "code",
      "execution_count": 5,
      "metadata": {
        "colab": {
          "base_uri": "https://localhost:8080/"
        },
        "id": "PGZcSktw3_5g",
        "outputId": "d4f19517-9871-408e-bea3-d080f1cdc0e0"
      },
      "outputs": [
        {
          "output_type": "stream",
          "name": "stdout",
          "text": [
            "4 4\n",
            "1 1 0\n",
            "1 1 1 1\n",
            "1 0 0 1\n",
            "1 1 0 1\n",
            "1 1 1 1\n",
            "2\n"
          ]
        }
      ],
      "source": [
        "n,m=map(int,input().split())\n",
        "d=[[0]*m for _ in range(n)]\n",
        "x,y,direction=map(int,input().split())\n",
        "d[x][y]=1\n",
        "\n",
        "array=[]\n",
        "for i in range(n):\n",
        "  array.append(list(map(int,input().split())))\n",
        "\n",
        "dx=[-1,0,1,0]\n",
        "dy=[0,1,0,-1]\n",
        "\n",
        "def turn_left():\n",
        "  global direction\n",
        "  direction -=1\n",
        "  if direction ==-1:\n",
        "    direction=3\n",
        "\n",
        "count=1\n",
        "turn_time=0\n",
        "while True:\n",
        "  turn_left()\n",
        "  nx=x+dx[direction]\n",
        "  ny=y+dy[direction]\n",
        "\n",
        "  if d[nx][ny]==0 and array[nx][ny] ==0:\n",
        "    d[nx][ny]=1\n",
        "    x=nx\n",
        "    y=ny\n",
        "    count+=1\n",
        "    continue\n",
        "\n",
        "  else:\n",
        "    turn_time+=1\n",
        "  if turn_time==4:\n",
        "    nx=x-dx[direction]\n",
        "    ny=y-dy[direction]\n",
        "\n",
        "    if array[nx][ny]==0:\n",
        "      x=nx\n",
        "      y=ny\n",
        "    else:\n",
        "      break\n",
        "    turn_time=0\n",
        "print(count)"
      ]
    }
  ]
}