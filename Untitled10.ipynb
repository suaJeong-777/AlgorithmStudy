{
  "nbformat": 4,
  "nbformat_minor": 0,
  "metadata": {
    "colab": {
      "name": "Untitled10.ipynb",
      "provenance": [],
      "authorship_tag": "ABX9TyONkp3A+MxZhZbIYnCcDBaz",
      "include_colab_link": true
    },
    "kernelspec": {
      "name": "python3",
      "display_name": "Python 3"
    },
    "language_info": {
      "name": "python"
    }
  },
  "cells": [
    {
      "cell_type": "markdown",
      "metadata": {
        "id": "view-in-github",
        "colab_type": "text"
      },
      "source": [
        "<a href=\"https://colab.research.google.com/github/suaJeong-777/AlgorithmStudy/blob/main/Untitled10.ipynb\" target=\"_parent\"><img src=\"https://colab.research.google.com/assets/colab-badge.svg\" alt=\"Open In Colab\"/></a>"
      ]
    },
    {
      "cell_type": "code",
      "execution_count": null,
      "metadata": {
        "id": "DSPIbbh6TLSS"
      },
      "outputs": [],
      "source": [
        "N = int(input())\n",
        "li = list(map(int, input().split()))\n",
        "S = int(input())\n",
        "cnt = N\n",
        "\n",
        "for s in li:\n",
        "    if s > S:\n",
        "        cnt += (s-1)//S\n",
        "    elif s == 0:\n",
        "        cnt -= 1\n",
        "print(S*cnt)"
      ]
    }
  ]
}